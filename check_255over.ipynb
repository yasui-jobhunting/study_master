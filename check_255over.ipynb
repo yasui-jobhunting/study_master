{
 "cells": [
  {
   "cell_type": "code",
   "execution_count": 69,
   "metadata": {},
   "outputs": [],
   "source": [
    "import csv\n",
    "import itertools\n",
    "import numpy as np\n",
    "import math\n",
    "import os\n",
    "import glob\n",
    "\n",
    "#step2 複数フレームから1つに圧縮！？\n",
    "\n",
    "#txtからcsvへ，LED検出\n",
    "direct='left'#change! left or right\n",
    "dstnc=['1','4','5']\n",
    "if direct == 'right':\n",
    "    dire = 'R'\n",
    "else:\n",
    "    dire = 'L'\n",
    "nnn=f\"//TS5410DFCD/share/01_yasui/BER_{direct}\" \n",
    "\n",
    "over255=[]\n"
   ]
  },
  {
   "cell_type": "code",
   "execution_count": 70,
   "metadata": {},
   "outputs": [
    {
     "name": "stdout",
     "output_type": "stream",
     "text": [
      "Movie:4CSK_1_L1,Error number:279\n",
      "Movie:4CSK_1_L7,Error number:34\n",
      "Movie:4CSK_1_L8,Error number:72\n",
      "Movie:4CSK_1_L9,Error number:72\n",
      "Movie:4CSK_1_L10,Error number:186\n",
      "Movie:4CSK_5_L5,Error number:9\n",
      "['4CSK_1_L1', '4CSK_1_L7', '4CSK_1_L8', '4CSK_1_L9', '4CSK_1_L10', '4CSK_5_L5']\n"
     ]
    }
   ],
   "source": [
    "for q in range(3): #確認したい値に応じて変える\n",
    "    videos=[]\n",
    "    for i in range(1,11):\n",
    "        videos.append('4CSK_{}_{}{}'.format(dstnc[q],dire,str(i))) \n",
    "\n",
    "    for j in range(10): #確認したい値に応じて変える\n",
    "        path = f'{nnn}/{videos[j]}/{videos[j]}_{direct}.csv'\n",
    "        framecnt=[]\n",
    "        with open(path,'r') as f:\n",
    "            reader = csv.reader(f)\n",
    "            res = [row for row in reader]\n",
    "\n",
    "            for row in res:\n",
    "                row[:] = map(int,row)\n",
    "\n",
    "        count=0\n",
    "\n",
    "        for k in range(len(res)):\n",
    "            count+=1\n",
    "            for p in range(3):\n",
    "                if res[k][p] > 255:\n",
    "                    if p==0:\n",
    "                        framecnt.append(count)\n",
    "                    elif p==1 and res[k][p-1]>255:\n",
    "                        break\n",
    "                    elif p==1 and res[k][p-2]>255:\n",
    "                        break\n",
    "                    else:\n",
    "                        framecnt.append(count)\n",
    "\n",
    "        if len(framecnt)>0:\n",
    "            print(f'Movie:{videos[j]},Error number:{len(framecnt)}')\n",
    "            over255.append(videos[j])\n",
    "\n",
    "            frame_path=f'{nnn}/{videos[j]}/{videos[j]}_{direct}_framenum_over255.csv'\n",
    "            #file 書き込み\n",
    "            with open(frame_path,'w') as f:\n",
    "                pass\n",
    "                f.write('')\n",
    "\n",
    "                for l in range(len(framecnt)):\n",
    "                    f.write(str(framecnt[l]))\n",
    "                    f.write('\\n')\n",
    "\n",
    "print(over255)\n"
   ]
  }
 ],
 "metadata": {
  "kernelspec": {
   "display_name": "base",
   "language": "python",
   "name": "python3"
  },
  "language_info": {
   "codemirror_mode": {
    "name": "ipython",
    "version": 3
   },
   "file_extension": ".py",
   "mimetype": "text/x-python",
   "name": "python",
   "nbconvert_exporter": "python",
   "pygments_lexer": "ipython3",
   "version": "3.8.8"
  },
  "orig_nbformat": 4
 },
 "nbformat": 4,
 "nbformat_minor": 2
}
