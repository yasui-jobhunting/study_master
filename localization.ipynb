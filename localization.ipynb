{
 "cells": [
  {
   "cell_type": "code",
   "execution_count": 1,
   "metadata": {},
   "outputs": [],
   "source": [
    "import numpy as np\n",
    "import cv2\n",
    "import os\n",
    "import math\n",
    "from statistics import stdev\n",
    "import csv"
   ]
  },
  {
   "cell_type": "code",
   "execution_count": 2,
   "metadata": {},
   "outputs": [],
   "source": [
    "def savedata(file_path,data_left):\n",
    "    left = []\n",
    "\n",
    "    with open(file_path,'w') as f:\n",
    "        pass\n",
    "        f.write('')\n",
    "\n",
    "        for i in range(len(data_left)):\n",
    "            left.append([data_left[i][4],data_left[i][5],data_left[i][6]])\n",
    "            f.write(str(math.ceil(float(data_left[i][4]))))\n",
    "            f.write(',')\n",
    "            f.write(str(math.ceil(float(data_left[i][5]))))\n",
    "            f.write(',')\n",
    "            f.write(str(math.ceil(float(data_left[i][6]))))\n",
    "            f.write('\\n')"
   ]
  },
  {
   "cell_type": "code",
   "execution_count": 4,
   "metadata": {},
   "outputs": [
    {
     "ename": "FileNotFoundError",
     "evalue": "[WinError 53] ネットワーク パスが見つかりません。: '//TS5410D7B5/share/'",
     "output_type": "error",
     "traceback": [
      "\u001b[1;31m---------------------------------------------------------------------------\u001b[0m",
      "\u001b[1;31mFileNotFoundError\u001b[0m                         Traceback (most recent call last)",
      "Cell \u001b[1;32mIn[4], line 5\u001b[0m\n\u001b[0;32m      2\u001b[0m fname \u001b[39m=\u001b[39m [\u001b[39m'\u001b[39m\u001b[39mbled_1m\u001b[39m\u001b[39m'\u001b[39m,\u001b[39m'\u001b[39m\u001b[39mbled_2m\u001b[39m\u001b[39m'\u001b[39m,\u001b[39m'\u001b[39m\u001b[39msled_1m\u001b[39m\u001b[39m'\u001b[39m,\u001b[39m'\u001b[39m\u001b[39msled_2m\u001b[39m\u001b[39m'\u001b[39m]\n\u001b[0;32m      4\u001b[0m \u001b[39mif\u001b[39;00m \u001b[39mnot\u001b[39;00m os\u001b[39m.\u001b[39mpath\u001b[39m.\u001b[39misdir(\u001b[39m\"\u001b[39m\u001b[39m{}\u001b[39;00m\u001b[39m/length\u001b[39m\u001b[39m\"\u001b[39m\u001b[39m.\u001b[39mformat(file_path)):\n\u001b[1;32m----> 5\u001b[0m         os\u001b[39m.\u001b[39;49mmakedirs(\u001b[39m\"\u001b[39;49m\u001b[39m{}\u001b[39;49;00m\u001b[39m/length\u001b[39;49m\u001b[39m\"\u001b[39;49m\u001b[39m.\u001b[39;49mformat(file_path))\n\u001b[0;32m      7\u001b[0m \u001b[39mfor\u001b[39;00m i \u001b[39min\u001b[39;00m \u001b[39mrange\u001b[39m(\u001b[39m0\u001b[39m,\u001b[39m4\u001b[39m):\n\u001b[0;32m      8\u001b[0m     files\u001b[39m=\u001b[39m\u001b[39m\"\u001b[39m\u001b[39m{}\u001b[39;00m\u001b[39m/\u001b[39m\u001b[39m{}\u001b[39;00m\u001b[39m.txt\u001b[39m\u001b[39m\"\u001b[39m\u001b[39m.\u001b[39mformat(file_path,fname[i])\n",
      "File \u001b[1;32mc:\\Users\\Ah1dn\\anaconda3\\lib\\os.py:215\u001b[0m, in \u001b[0;36mmakedirs\u001b[1;34m(name, mode, exist_ok)\u001b[0m\n\u001b[0;32m    213\u001b[0m \u001b[39mif\u001b[39;00m head \u001b[39mand\u001b[39;00m tail \u001b[39mand\u001b[39;00m \u001b[39mnot\u001b[39;00m path\u001b[39m.\u001b[39mexists(head):\n\u001b[0;32m    214\u001b[0m     \u001b[39mtry\u001b[39;00m:\n\u001b[1;32m--> 215\u001b[0m         makedirs(head, exist_ok\u001b[39m=\u001b[39;49mexist_ok)\n\u001b[0;32m    216\u001b[0m     \u001b[39mexcept\u001b[39;00m \u001b[39mFileExistsError\u001b[39;00m:\n\u001b[0;32m    217\u001b[0m         \u001b[39m# Defeats race condition when another thread created the path\u001b[39;00m\n\u001b[0;32m    218\u001b[0m         \u001b[39mpass\u001b[39;00m\n",
      "File \u001b[1;32mc:\\Users\\Ah1dn\\anaconda3\\lib\\os.py:215\u001b[0m, in \u001b[0;36mmakedirs\u001b[1;34m(name, mode, exist_ok)\u001b[0m\n\u001b[0;32m    213\u001b[0m \u001b[39mif\u001b[39;00m head \u001b[39mand\u001b[39;00m tail \u001b[39mand\u001b[39;00m \u001b[39mnot\u001b[39;00m path\u001b[39m.\u001b[39mexists(head):\n\u001b[0;32m    214\u001b[0m     \u001b[39mtry\u001b[39;00m:\n\u001b[1;32m--> 215\u001b[0m         makedirs(head, exist_ok\u001b[39m=\u001b[39;49mexist_ok)\n\u001b[0;32m    216\u001b[0m     \u001b[39mexcept\u001b[39;00m \u001b[39mFileExistsError\u001b[39;00m:\n\u001b[0;32m    217\u001b[0m         \u001b[39m# Defeats race condition when another thread created the path\u001b[39;00m\n\u001b[0;32m    218\u001b[0m         \u001b[39mpass\u001b[39;00m\n",
      "    \u001b[1;31m[... skipping similar frames: makedirs at line 215 (2 times)]\u001b[0m\n",
      "File \u001b[1;32mc:\\Users\\Ah1dn\\anaconda3\\lib\\os.py:215\u001b[0m, in \u001b[0;36mmakedirs\u001b[1;34m(name, mode, exist_ok)\u001b[0m\n\u001b[0;32m    213\u001b[0m \u001b[39mif\u001b[39;00m head \u001b[39mand\u001b[39;00m tail \u001b[39mand\u001b[39;00m \u001b[39mnot\u001b[39;00m path\u001b[39m.\u001b[39mexists(head):\n\u001b[0;32m    214\u001b[0m     \u001b[39mtry\u001b[39;00m:\n\u001b[1;32m--> 215\u001b[0m         makedirs(head, exist_ok\u001b[39m=\u001b[39;49mexist_ok)\n\u001b[0;32m    216\u001b[0m     \u001b[39mexcept\u001b[39;00m \u001b[39mFileExistsError\u001b[39;00m:\n\u001b[0;32m    217\u001b[0m         \u001b[39m# Defeats race condition when another thread created the path\u001b[39;00m\n\u001b[0;32m    218\u001b[0m         \u001b[39mpass\u001b[39;00m\n",
      "File \u001b[1;32mc:\\Users\\Ah1dn\\anaconda3\\lib\\os.py:225\u001b[0m, in \u001b[0;36mmakedirs\u001b[1;34m(name, mode, exist_ok)\u001b[0m\n\u001b[0;32m    223\u001b[0m         \u001b[39mreturn\u001b[39;00m\n\u001b[0;32m    224\u001b[0m \u001b[39mtry\u001b[39;00m:\n\u001b[1;32m--> 225\u001b[0m     mkdir(name, mode)\n\u001b[0;32m    226\u001b[0m \u001b[39mexcept\u001b[39;00m \u001b[39mOSError\u001b[39;00m:\n\u001b[0;32m    227\u001b[0m     \u001b[39m# Cannot rely on checking for EEXIST, since the operating system\u001b[39;00m\n\u001b[0;32m    228\u001b[0m     \u001b[39m# could give priority to other errors like EACCES or EROFS\u001b[39;00m\n\u001b[0;32m    229\u001b[0m     \u001b[39mif\u001b[39;00m \u001b[39mnot\u001b[39;00m exist_ok \u001b[39mor\u001b[39;00m \u001b[39mnot\u001b[39;00m path\u001b[39m.\u001b[39misdir(name):\n",
      "\u001b[1;31mFileNotFoundError\u001b[0m: [WinError 53] ネットワーク パスが見つかりません。: '//TS5410D7B5/share/'"
     ]
    }
   ],
   "source": [
    "file_path = \"//TS5410D7B5/share/01_yasui/detectLED/2023/localization\"\n",
    "fname = ['bled_1m','bled_2m','sled_1m','sled_2m']\n",
    "\n",
    "if not os.path.isdir(\"{}/length\".format(file_path)):\n",
    "        os.makedirs(\"{}/length\".format(file_path))\n",
    "\n",
    "for i in range(0,4):\n",
    "    files=\"{}/{}.txt\".format(file_path,fname[i])\n",
    "    print(files)\n",
    "\n",
    "    # files = sorted(glob.glob(\"{}/*.txt\".format(folfol)))\n",
    "\n",
    "    \n",
    "    f=open(files,'r')\n",
    "\n",
    "    l=[]\n",
    "\n",
    "    for line in f:\n",
    "        line=line.rstrip()\n",
    "        l.append(line.split(\"\\t\"))\n",
    "\n",
    "    f.close()\n",
    "    \n",
    "    \n",
    "    length=[]\n",
    "    j=0\n",
    "    \n",
    "    while j < len(l):\n",
    "        if len(l[j])>2:\n",
    "            length.append(l[j][2])#変更 2or3\n",
    "            j+=1\n",
    "        else:\n",
    "            j+=1\n",
    "    \n",
    "\n",
    "    \n",
    "    length_path = \"{}/length/{}_length.txt\".format(file_path,fname[i])\n",
    "    \n",
    "    with open(length_path,'w') as f:\n",
    "        pass\n",
    "        # f.write('')\n",
    "\n",
    "        for i in range(len(length)):\n",
    "            f.write(str(math.ceil(float(length[i]))))\n",
    "            f.write('\\n')"
   ]
  },
  {
   "cell_type": "code",
   "execution_count": 3,
   "metadata": {},
   "outputs": [
    {
     "ename": "NameError",
     "evalue": "name 'fname' is not defined",
     "output_type": "error",
     "traceback": [
      "\u001b[1;31m---------------------------------------------------------------------------\u001b[0m",
      "\u001b[1;31mNameError\u001b[0m                                 Traceback (most recent call last)",
      "Cell \u001b[1;32mIn[3], line 3\u001b[0m\n\u001b[0;32m      1\u001b[0m data \u001b[39m=\u001b[39m []\n\u001b[1;32m----> 3\u001b[0m \u001b[39mfor\u001b[39;00m i \u001b[39min\u001b[39;00m \u001b[39mrange\u001b[39m(\u001b[39mlen\u001b[39m(fname)):\n\u001b[0;32m      4\u001b[0m     length_path \u001b[39m=\u001b[39m \u001b[39m\"\u001b[39m\u001b[39m{}\u001b[39;00m\u001b[39m/length/\u001b[39m\u001b[39m{}\u001b[39;00m\u001b[39m_length.txt\u001b[39m\u001b[39m\"\u001b[39m\u001b[39m.\u001b[39mformat(file_path,fname[i])\n\u001b[0;32m      5\u001b[0m     a\u001b[39m=\u001b[39mnp\u001b[39m.\u001b[39mloadtxt(length_path)\n",
      "\u001b[1;31mNameError\u001b[0m: name 'fname' is not defined"
     ]
    }
   ],
   "source": [
    "data = []\n",
    "\n",
    "for i in range(len(fname)):\n",
    "    length_path = \"{}/length/{}_length.txt\".format(file_path,fname[i])\n",
    "    a=np.loadtxt(length_path)\n",
    "    \n",
    "    ave=sum(a)/len(a)\n",
    "    print(ave)\n",
    "    data.append(ave)\n",
    "\n",
    "    \n",
    "    \n",
    "# data_path = \"{}/length/all_length.txt\".format(file_path)\n",
    "# with open(data_path,'w') as f:\n",
    "#     pass\n",
    "#     # f.write('')\n",
    "\n",
    "#     for i in range(len(data)):\n",
    "#         f.write(fname[i])\n",
    "#         f.write(',')\n",
    "#         f.write(str(data[i]))\n",
    "#         f.write('\\n')"
   ]
  },
  {
   "cell_type": "code",
   "execution_count": 5,
   "metadata": {},
   "outputs": [
    {
     "ename": "FileNotFoundError",
     "evalue": "[Errno 2] No such file or directory: '//TS5410D7B5/share/01_yasui/detectLED/2023/localization/length/L0316_camera1m_length.txt'",
     "output_type": "error",
     "traceback": [
      "\u001b[1;31m---------------------------------------------------------------------------\u001b[0m",
      "\u001b[1;31mFileNotFoundError\u001b[0m                         Traceback (most recent call last)",
      "Cell \u001b[1;32mIn[5], line 5\u001b[0m\n\u001b[0;32m      2\u001b[0m \u001b[39mfor\u001b[39;00m i \u001b[39min\u001b[39;00m \u001b[39mrange\u001b[39m(\u001b[39m1\u001b[39m,\u001b[39m5\u001b[39m):\u001b[39m#\u001b[39;00m\n\u001b[0;32m      4\u001b[0m     length_path \u001b[39m=\u001b[39m \u001b[39m\"\u001b[39m\u001b[39m{}\u001b[39;00m\u001b[39m/length/L0316_camera\u001b[39m\u001b[39m{}\u001b[39;00m\u001b[39mm_length.txt\u001b[39m\u001b[39m\"\u001b[39m\u001b[39m.\u001b[39mformat(file_path,\u001b[39mstr\u001b[39m(i))\n\u001b[1;32m----> 5\u001b[0m     f\u001b[39m=\u001b[39m\u001b[39mopen\u001b[39;49m(length_path,\u001b[39m'\u001b[39;49m\u001b[39mr\u001b[39;49m\u001b[39m'\u001b[39;49m)\n\u001b[0;32m      7\u001b[0m     b \u001b[39m=\u001b[39m np\u001b[39m.\u001b[39mloadtxt(length_path,\u001b[39mint\u001b[39m)\n\u001b[0;32m      8\u001b[0m     bn \u001b[39m=\u001b[39m []\n",
      "File \u001b[1;32mc:\\Users\\Ah1dn\\anaconda3\\lib\\site-packages\\IPython\\core\\interactiveshell.py:282\u001b[0m, in \u001b[0;36m_modified_open\u001b[1;34m(file, *args, **kwargs)\u001b[0m\n\u001b[0;32m    275\u001b[0m \u001b[39mif\u001b[39;00m file \u001b[39min\u001b[39;00m {\u001b[39m0\u001b[39m, \u001b[39m1\u001b[39m, \u001b[39m2\u001b[39m}:\n\u001b[0;32m    276\u001b[0m     \u001b[39mraise\u001b[39;00m \u001b[39mValueError\u001b[39;00m(\n\u001b[0;32m    277\u001b[0m         \u001b[39mf\u001b[39m\u001b[39m\"\u001b[39m\u001b[39mIPython won\u001b[39m\u001b[39m'\u001b[39m\u001b[39mt let you open fd=\u001b[39m\u001b[39m{\u001b[39;00mfile\u001b[39m}\u001b[39;00m\u001b[39m by default \u001b[39m\u001b[39m\"\u001b[39m\n\u001b[0;32m    278\u001b[0m         \u001b[39m\"\u001b[39m\u001b[39mas it is likely to crash IPython. If you know what you are doing, \u001b[39m\u001b[39m\"\u001b[39m\n\u001b[0;32m    279\u001b[0m         \u001b[39m\"\u001b[39m\u001b[39myou can use builtins\u001b[39m\u001b[39m'\u001b[39m\u001b[39m open.\u001b[39m\u001b[39m\"\u001b[39m\n\u001b[0;32m    280\u001b[0m     )\n\u001b[1;32m--> 282\u001b[0m \u001b[39mreturn\u001b[39;00m io_open(file, \u001b[39m*\u001b[39margs, \u001b[39m*\u001b[39m\u001b[39m*\u001b[39mkwargs)\n",
      "\u001b[1;31mFileNotFoundError\u001b[0m: [Errno 2] No such file or directory: '//TS5410D7B5/share/01_yasui/detectLED/2023/localization/length/L0316_camera1m_length.txt'"
     ]
    }
   ],
   "source": [
    "ave_data =[]\n",
    "for i in range(1,5):#\n",
    "    \n",
    "    length_path = \"{}/length/L0316_camera{}m_length.txt\".format(file_path,str(i))\n",
    "    f=open(length_path,'r')\n",
    "\n",
    "    b = np.loadtxt(length_path,int)\n",
    "    bn = []\n",
    "    for j in range(len(b)):\n",
    "        if b[j]>100 and i==1:\n",
    "            bn.append(b[j])\n",
    "            j+=1\n",
    "        else:\n",
    "            j+=1\n",
    "    if i == 1:\n",
    "        print(f'num of 1m:{len(bn)}')\n",
    "    else:\n",
    "        print(f'num of {i}m:{len(b)}')\n",
    "            \n",
    "    if i == 1:\n",
    "        ave2 = sum(bn)/len(bn)\n",
    "        print(bn)\n",
    "    else:\n",
    "        ave2 = sum(b)/len(b)\n",
    "        print(b)\n",
    "    ave_data.append(ave2)\n",
    "x=[] \n",
    "x.append(data[0]*1.33/ave_data[0])\n",
    "for i in range(1,4):\n",
    "    x.append(data[2]*1.33/ave_data[i])\n",
    "print(x)\n",
    "    "
   ]
  },
  {
   "cell_type": "markdown",
   "metadata": {},
   "source": [
    "標準偏差"
   ]
  },
  {
   "cell_type": "code",
   "execution_count": null,
   "metadata": {},
   "outputs": [
    {
     "name": "stdout",
     "output_type": "stream",
     "text": [
      "num of 1m:51138\n",
      "num of 2m:30180\n",
      "num of 3m:25383\n",
      "num of 4m:22843\n",
      "[0.008116346335432222, 0.02818197029467786, 0.32017149979209536, 0.24105528542692542]\n"
     ]
    }
   ],
   "source": [
    "ave_data =[]\n",
    "x=[]\n",
    "length_std=[] #各距離の標準偏差を代入\n",
    "nagasa=20000\n",
    "\n",
    "for i in range(1,5):#\n",
    "    \n",
    "    length_path = \"{}/length/L0316_camera{}m_length.txt\".format(file_path,str(i))\n",
    "\n",
    "    b = np.loadtxt(length_path,int)\n",
    "    bn = []\n",
    "    for j in range(len(nagasa)):\n",
    "        if b[j]>100 and i==1:\n",
    "            bn.append(b[j])\n",
    "            j+=1\n",
    "        else:\n",
    "            j+=1\n",
    "    if i == 1:\n",
    "        print(f'num of 1m:{len(bn)}')\n",
    "    else:\n",
    "        print(f'num of {i}m:{len(b)}')\n",
    "            \n",
    "    if i == 1:\n",
    "        for p in range(len(bn)):\n",
    "            x.append(data[0]*1.33/bn[p])\n",
    "        length_std.append(stdev(x))\n",
    "        x=[]\n",
    "            \n",
    "    else:\n",
    "        for p in range(len(b)):\n",
    "            x.append(data[2]*1.33/b[p])\n",
    "        length_std.append(stdev(x))\n",
    "        x=[]\n",
    "\n",
    "print(length_std)\n",
    "    "
   ]
  },
  {
   "cell_type": "markdown",
   "metadata": {},
   "source": [
    "12月の神戸のデータ"
   ]
  },
  {
   "cell_type": "code",
   "execution_count": 2,
   "metadata": {},
   "outputs": [
    {
     "name": "stdout",
     "output_type": "stream",
     "text": [
      "0.03275106753996764\n",
      "0.047835551515881376\n",
      "0.09168425904982008\n",
      "0.1621503904861265\n",
      "0.4888516887483509\n"
     ]
    }
   ],
   "source": [
    "#12月の神戸のデータ\n",
    "length_std=[]\n",
    "\n",
    "for i in range(5):\n",
    "    b=[]\n",
    "    \n",
    "    length_path = f\"//TS5410DFCD/share/01_yasui/led_detect/localization1231/4csk32_{i+1}m_distance.txt\"\n",
    "    X = np.loadtxt(length_path)\n",
    "    # print(X)\n",
    "    print(stdev(X))\n",
    "\n"
   ]
  },
  {
   "cell_type": "code",
   "execution_count": 9,
   "metadata": {},
   "outputs": [
    {
     "name": "stdout",
     "output_type": "stream",
     "text": [
      "76.34117647058824\n"
     ]
    }
   ],
   "source": [
    "#元となるデータ\n",
    "files=\"//TS5410DFCD/share/01_yasui/led_detect/localization_air/4csk_air1m.txt\"\n",
    "\n",
    "f=open(files,'r')\n",
    "\n",
    "base=[]\n",
    "l=[]\n",
    "\n",
    "for line in f:\n",
    "    line=line.rstrip()\n",
    "    l.append(line.split(\"\\t\"))\n",
    "\n",
    "f.close()\n",
    "\n",
    "i=0\n",
    "\n",
    "while i < len(l):\n",
    "    if len(l[i])>1:\n",
    "        base.append(int(l[i][2]))\n",
    "        i+=1\n",
    "    else:\n",
    "        i+=1\n",
    "\n",
    "X= sum(base)/len(base)"
   ]
  },
  {
   "cell_type": "code",
   "execution_count": null,
   "metadata": {},
   "outputs": [],
   "source": [
    "X=76.34117647058824 #1ｍでのデータ\n",
    "\n",
    "length_path='' #使うファイルのパス"
   ]
  },
  {
   "cell_type": "code",
   "execution_count": null,
   "metadata": {},
   "outputs": [],
   "source": [
    "lengthdata_path=\"{}/length/alllength_result.txt\".format(file_path)\n",
    "\n",
    "with open(lengthdata_path,'w') as f:\n",
    "        pass\n",
    "        for i in range(4):\n",
    "                if i < 3:\n",
    "                        f.write(str(x[i]))\n",
    "                        f.write('\\n')\n",
    "                else:\n",
    "                        f.write(str(x[i]))\n"
   ]
  }
 ],
 "metadata": {
  "kernelspec": {
   "display_name": "base",
   "language": "python",
   "name": "python3"
  },
  "language_info": {
   "codemirror_mode": {
    "name": "ipython",
    "version": 3
   },
   "file_extension": ".py",
   "mimetype": "text/x-python",
   "name": "python",
   "nbconvert_exporter": "python",
   "pygments_lexer": "ipython3",
   "version": "3.9.16"
  },
  "orig_nbformat": 4
 },
 "nbformat": 4,
 "nbformat_minor": 2
}
